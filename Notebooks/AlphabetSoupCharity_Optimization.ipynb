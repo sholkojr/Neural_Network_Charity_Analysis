{
 "cells": [
  {
   "cell_type": "markdown",
   "metadata": {},
   "source": [
    "### Deliverable 1: Preprocessing the Data for a Neural Network"
   ]
  },
  {
   "cell_type": "code",
   "execution_count": 1368,
   "metadata": {},
   "outputs": [
    {
     "output_type": "execute_result",
     "data": {
      "text/plain": [
       "        EIN                                      NAME APPLICATION_TYPE  \\\n",
       "0  10520599              BLUE KNIGHTS MOTORCYCLE CLUB              T10   \n",
       "1  10531628    AMERICAN CHESAPEAKE CLUB CHARITABLE TR               T3   \n",
       "2  10547893        ST CLOUD PROFESSIONAL FIREFIGHTERS               T5   \n",
       "3  10553066            SOUTHSIDE ATHLETIC ASSOCIATION               T3   \n",
       "4  10556103  GENETIC RESEARCH INSTITUTE OF THE DESERT               T3   \n",
       "\n",
       "        AFFILIATION CLASSIFICATION      USE_CASE  ORGANIZATION  STATUS  \\\n",
       "0       Independent          C1000    ProductDev   Association       1   \n",
       "1       Independent          C2000  Preservation  Co-operative       1   \n",
       "2  CompanySponsored          C3000    ProductDev   Association       1   \n",
       "3  CompanySponsored          C2000  Preservation         Trust       1   \n",
       "4       Independent          C1000     Heathcare         Trust       1   \n",
       "\n",
       "      INCOME_AMT SPECIAL_CONSIDERATIONS  ASK_AMT  IS_SUCCESSFUL  \n",
       "0              0                      N     5000              1  \n",
       "1         1-9999                      N   108590              1  \n",
       "2              0                      N     5000              0  \n",
       "3    10000-24999                      N     6692              1  \n",
       "4  100000-499999                      N   142590              1  "
      ],
      "text/html": "<div>\n<style scoped>\n    .dataframe tbody tr th:only-of-type {\n        vertical-align: middle;\n    }\n\n    .dataframe tbody tr th {\n        vertical-align: top;\n    }\n\n    .dataframe thead th {\n        text-align: right;\n    }\n</style>\n<table border=\"1\" class=\"dataframe\">\n  <thead>\n    <tr style=\"text-align: right;\">\n      <th></th>\n      <th>EIN</th>\n      <th>NAME</th>\n      <th>APPLICATION_TYPE</th>\n      <th>AFFILIATION</th>\n      <th>CLASSIFICATION</th>\n      <th>USE_CASE</th>\n      <th>ORGANIZATION</th>\n      <th>STATUS</th>\n      <th>INCOME_AMT</th>\n      <th>SPECIAL_CONSIDERATIONS</th>\n      <th>ASK_AMT</th>\n      <th>IS_SUCCESSFUL</th>\n    </tr>\n  </thead>\n  <tbody>\n    <tr>\n      <th>0</th>\n      <td>10520599</td>\n      <td>BLUE KNIGHTS MOTORCYCLE CLUB</td>\n      <td>T10</td>\n      <td>Independent</td>\n      <td>C1000</td>\n      <td>ProductDev</td>\n      <td>Association</td>\n      <td>1</td>\n      <td>0</td>\n      <td>N</td>\n      <td>5000</td>\n      <td>1</td>\n    </tr>\n    <tr>\n      <th>1</th>\n      <td>10531628</td>\n      <td>AMERICAN CHESAPEAKE CLUB CHARITABLE TR</td>\n      <td>T3</td>\n      <td>Independent</td>\n      <td>C2000</td>\n      <td>Preservation</td>\n      <td>Co-operative</td>\n      <td>1</td>\n      <td>1-9999</td>\n      <td>N</td>\n      <td>108590</td>\n      <td>1</td>\n    </tr>\n    <tr>\n      <th>2</th>\n      <td>10547893</td>\n      <td>ST CLOUD PROFESSIONAL FIREFIGHTERS</td>\n      <td>T5</td>\n      <td>CompanySponsored</td>\n      <td>C3000</td>\n      <td>ProductDev</td>\n      <td>Association</td>\n      <td>1</td>\n      <td>0</td>\n      <td>N</td>\n      <td>5000</td>\n      <td>0</td>\n    </tr>\n    <tr>\n      <th>3</th>\n      <td>10553066</td>\n      <td>SOUTHSIDE ATHLETIC ASSOCIATION</td>\n      <td>T3</td>\n      <td>CompanySponsored</td>\n      <td>C2000</td>\n      <td>Preservation</td>\n      <td>Trust</td>\n      <td>1</td>\n      <td>10000-24999</td>\n      <td>N</td>\n      <td>6692</td>\n      <td>1</td>\n    </tr>\n    <tr>\n      <th>4</th>\n      <td>10556103</td>\n      <td>GENETIC RESEARCH INSTITUTE OF THE DESERT</td>\n      <td>T3</td>\n      <td>Independent</td>\n      <td>C1000</td>\n      <td>Heathcare</td>\n      <td>Trust</td>\n      <td>1</td>\n      <td>100000-499999</td>\n      <td>N</td>\n      <td>142590</td>\n      <td>1</td>\n    </tr>\n  </tbody>\n</table>\n</div>"
     },
     "metadata": {},
     "execution_count": 1368
    }
   ],
   "source": [
    "# Import our dependencies\n",
    "from sklearn.model_selection import train_test_split\n",
    "from sklearn.preprocessing import StandardScaler,OneHotEncoder\n",
    "import pandas as pd\n",
    "import tensorflow as tf\n",
    "\n",
    "#  Import and read the charity_data.csv.\n",
    "import pandas as pd \n",
    "application_df = pd.read_csv(\"../Resources/charity_data.csv\")\n",
    "application_df.head()"
   ]
  },
  {
   "cell_type": "code",
   "execution_count": 1369,
   "metadata": {},
   "outputs": [],
   "source": [
    "# Drop the non-beneficial ID columns, 'EIN' and 'NAME'.\n",
    "application_df = application_df.drop(['EIN', 'NAME'],1)"
   ]
  },
  {
   "cell_type": "code",
   "execution_count": 1370,
   "metadata": {},
   "outputs": [
    {
     "output_type": "execute_result",
     "data": {
      "text/plain": [
       "APPLICATION_TYPE            17\n",
       "AFFILIATION                  6\n",
       "CLASSIFICATION              71\n",
       "USE_CASE                     5\n",
       "ORGANIZATION                 4\n",
       "STATUS                       2\n",
       "INCOME_AMT                   9\n",
       "SPECIAL_CONSIDERATIONS       2\n",
       "ASK_AMT                   8747\n",
       "IS_SUCCESSFUL                2\n",
       "dtype: int64"
      ]
     },
     "metadata": {},
     "execution_count": 1370
    }
   ],
   "source": [
    "# Determine the number of unique values in each column.\n",
    "application_df.nunique()"
   ]
  },
  {
   "cell_type": "code",
   "execution_count": 1371,
   "metadata": {},
   "outputs": [
    {
     "output_type": "execute_result",
     "data": {
      "text/plain": [
       "T3     27037\n",
       "T4      1542\n",
       "T6      1216\n",
       "T5      1173\n",
       "T19     1065\n",
       "T8       737\n",
       "T7       725\n",
       "T10      528\n",
       "T9       156\n",
       "T13       66\n",
       "T12       27\n",
       "T2        16\n",
       "T25        3\n",
       "T14        3\n",
       "T15        2\n",
       "T29        2\n",
       "T17        1\n",
       "Name: APPLICATION_TYPE, dtype: int64"
      ]
     },
     "metadata": {},
     "execution_count": 1371
    }
   ],
   "source": [
    "# Look at APPLICATION_TYPE value counts for binning\n",
    "app_type_counts = application_df.APPLICATION_TYPE.value_counts()\n",
    "app_type_counts"
   ]
  },
  {
   "cell_type": "code",
   "execution_count": 1372,
   "metadata": {},
   "outputs": [
    {
     "output_type": "execute_result",
     "data": {
      "text/plain": [
       "T3       27037\n",
       "T4        1542\n",
       "T6        1216\n",
       "T5        1173\n",
       "T19       1065\n",
       "T8         737\n",
       "T7         725\n",
       "T10        528\n",
       "Other      276\n",
       "Name: APPLICATION_TYPE, dtype: int64"
      ]
     },
     "metadata": {},
     "execution_count": 1372
    }
   ],
   "source": [
    "# Determine which values to replace if counts are less than 500\n",
    "replace_application = list(app_type_counts[app_type_counts < 500].index)\n",
    "\n",
    "# Replace in dataframe\n",
    "for app in replace_application:\n",
    "    application_df.APPLICATION_TYPE = application_df.APPLICATION_TYPE.replace(app,\"Other\")\n",
    "    \n",
    "# Check to make sure binning was successful\n",
    "application_df.APPLICATION_TYPE.value_counts()"
   ]
  },
  {
   "cell_type": "code",
   "execution_count": 1373,
   "metadata": {},
   "outputs": [
    {
     "output_type": "execute_result",
     "data": {
      "text/plain": [
       "C1000    17326\n",
       "C2000     6074\n",
       "C1200     4837\n",
       "C3000     1918\n",
       "C2100     1883\n",
       "         ...  \n",
       "C8210        1\n",
       "C2150        1\n",
       "C1370        1\n",
       "C5200        1\n",
       "C2380        1\n",
       "Name: CLASSIFICATION, Length: 71, dtype: int64"
      ]
     },
     "metadata": {},
     "execution_count": 1373
    }
   ],
   "source": [
    "# Look at CLASSIFICATION value counts for binning\n",
    "class_type_counts = application_df.CLASSIFICATION.value_counts()\n",
    "class_type_counts"
   ]
  },
  {
   "cell_type": "code",
   "execution_count": 1374,
   "metadata": {},
   "outputs": [
    {
     "output_type": "execute_result",
     "data": {
      "text/plain": [
       "C1000    17326\n",
       "C2000     6074\n",
       "C1200     4837\n",
       "Other     2261\n",
       "C3000     1918\n",
       "C2100     1883\n",
       "Name: CLASSIFICATION, dtype: int64"
      ]
     },
     "metadata": {},
     "execution_count": 1374
    }
   ],
   "source": [
    "# Determine which values to replace if counts are less than 1500\n",
    "replace_class = list(class_type_counts[class_type_counts < 1500].index)\n",
    "\n",
    "# Replace in dataframe\n",
    "for cls in replace_class:\n",
    "    application_df.CLASSIFICATION = application_df.CLASSIFICATION.replace(cls,\"Other\")\n",
    "    \n",
    "# Check to make sure binning was successful\n",
    "application_df.CLASSIFICATION.value_counts()"
   ]
  },
  {
   "cell_type": "code",
   "execution_count": 1375,
   "metadata": {},
   "outputs": [],
   "source": [
    "# Generate our categorical variable lists\n",
    "application_cat = application_df.dtypes[application_df.dtypes == \"object\"].index.tolist()"
   ]
  },
  {
   "cell_type": "code",
   "execution_count": 1376,
   "metadata": {},
   "outputs": [
    {
     "output_type": "execute_result",
     "data": {
      "text/plain": [
       "   APPLICATION_TYPE_Other  APPLICATION_TYPE_T10  APPLICATION_TYPE_T19  \\\n",
       "0                     0.0                   1.0                   0.0   \n",
       "1                     0.0                   0.0                   0.0   \n",
       "2                     0.0                   0.0                   0.0   \n",
       "3                     0.0                   0.0                   0.0   \n",
       "4                     0.0                   0.0                   0.0   \n",
       "\n",
       "   APPLICATION_TYPE_T3  APPLICATION_TYPE_T4  APPLICATION_TYPE_T5  \\\n",
       "0                  0.0                  0.0                  0.0   \n",
       "1                  1.0                  0.0                  0.0   \n",
       "2                  0.0                  0.0                  1.0   \n",
       "3                  1.0                  0.0                  0.0   \n",
       "4                  1.0                  0.0                  0.0   \n",
       "\n",
       "   APPLICATION_TYPE_T6  APPLICATION_TYPE_T7  APPLICATION_TYPE_T8  \\\n",
       "0                  0.0                  0.0                  0.0   \n",
       "1                  0.0                  0.0                  0.0   \n",
       "2                  0.0                  0.0                  0.0   \n",
       "3                  0.0                  0.0                  0.0   \n",
       "4                  0.0                  0.0                  0.0   \n",
       "\n",
       "   AFFILIATION_CompanySponsored  ...  INCOME_AMT_0  INCOME_AMT_1-9999  \\\n",
       "0                           0.0  ...           1.0                0.0   \n",
       "1                           0.0  ...           0.0                1.0   \n",
       "2                           1.0  ...           1.0                0.0   \n",
       "3                           1.0  ...           0.0                0.0   \n",
       "4                           0.0  ...           0.0                0.0   \n",
       "\n",
       "   INCOME_AMT_10000-24999  INCOME_AMT_100000-499999  INCOME_AMT_10M-50M  \\\n",
       "0                     0.0                       0.0                 0.0   \n",
       "1                     0.0                       0.0                 0.0   \n",
       "2                     0.0                       0.0                 0.0   \n",
       "3                     1.0                       0.0                 0.0   \n",
       "4                     0.0                       1.0                 0.0   \n",
       "\n",
       "   INCOME_AMT_1M-5M  INCOME_AMT_25000-99999  INCOME_AMT_50M+  \\\n",
       "0               0.0                     0.0              0.0   \n",
       "1               0.0                     0.0              0.0   \n",
       "2               0.0                     0.0              0.0   \n",
       "3               0.0                     0.0              0.0   \n",
       "4               0.0                     0.0              0.0   \n",
       "\n",
       "   INCOME_AMT_5M-10M  SPECIAL_CONSIDERATIONS_Y  \n",
       "0                0.0                       0.0  \n",
       "1                0.0                       0.0  \n",
       "2                0.0                       0.0  \n",
       "3                0.0                       0.0  \n",
       "4                0.0                       0.0  \n",
       "\n",
       "[5 rows x 40 columns]"
      ],
      "text/html": "<div>\n<style scoped>\n    .dataframe tbody tr th:only-of-type {\n        vertical-align: middle;\n    }\n\n    .dataframe tbody tr th {\n        vertical-align: top;\n    }\n\n    .dataframe thead th {\n        text-align: right;\n    }\n</style>\n<table border=\"1\" class=\"dataframe\">\n  <thead>\n    <tr style=\"text-align: right;\">\n      <th></th>\n      <th>APPLICATION_TYPE_Other</th>\n      <th>APPLICATION_TYPE_T10</th>\n      <th>APPLICATION_TYPE_T19</th>\n      <th>APPLICATION_TYPE_T3</th>\n      <th>APPLICATION_TYPE_T4</th>\n      <th>APPLICATION_TYPE_T5</th>\n      <th>APPLICATION_TYPE_T6</th>\n      <th>APPLICATION_TYPE_T7</th>\n      <th>APPLICATION_TYPE_T8</th>\n      <th>AFFILIATION_CompanySponsored</th>\n      <th>...</th>\n      <th>INCOME_AMT_0</th>\n      <th>INCOME_AMT_1-9999</th>\n      <th>INCOME_AMT_10000-24999</th>\n      <th>INCOME_AMT_100000-499999</th>\n      <th>INCOME_AMT_10M-50M</th>\n      <th>INCOME_AMT_1M-5M</th>\n      <th>INCOME_AMT_25000-99999</th>\n      <th>INCOME_AMT_50M+</th>\n      <th>INCOME_AMT_5M-10M</th>\n      <th>SPECIAL_CONSIDERATIONS_Y</th>\n    </tr>\n  </thead>\n  <tbody>\n    <tr>\n      <th>0</th>\n      <td>0.0</td>\n      <td>1.0</td>\n      <td>0.0</td>\n      <td>0.0</td>\n      <td>0.0</td>\n      <td>0.0</td>\n      <td>0.0</td>\n      <td>0.0</td>\n      <td>0.0</td>\n      <td>0.0</td>\n      <td>...</td>\n      <td>1.0</td>\n      <td>0.0</td>\n      <td>0.0</td>\n      <td>0.0</td>\n      <td>0.0</td>\n      <td>0.0</td>\n      <td>0.0</td>\n      <td>0.0</td>\n      <td>0.0</td>\n      <td>0.0</td>\n    </tr>\n    <tr>\n      <th>1</th>\n      <td>0.0</td>\n      <td>0.0</td>\n      <td>0.0</td>\n      <td>1.0</td>\n      <td>0.0</td>\n      <td>0.0</td>\n      <td>0.0</td>\n      <td>0.0</td>\n      <td>0.0</td>\n      <td>0.0</td>\n      <td>...</td>\n      <td>0.0</td>\n      <td>1.0</td>\n      <td>0.0</td>\n      <td>0.0</td>\n      <td>0.0</td>\n      <td>0.0</td>\n      <td>0.0</td>\n      <td>0.0</td>\n      <td>0.0</td>\n      <td>0.0</td>\n    </tr>\n    <tr>\n      <th>2</th>\n      <td>0.0</td>\n      <td>0.0</td>\n      <td>0.0</td>\n      <td>0.0</td>\n      <td>0.0</td>\n      <td>1.0</td>\n      <td>0.0</td>\n      <td>0.0</td>\n      <td>0.0</td>\n      <td>1.0</td>\n      <td>...</td>\n      <td>1.0</td>\n      <td>0.0</td>\n      <td>0.0</td>\n      <td>0.0</td>\n      <td>0.0</td>\n      <td>0.0</td>\n      <td>0.0</td>\n      <td>0.0</td>\n      <td>0.0</td>\n      <td>0.0</td>\n    </tr>\n    <tr>\n      <th>3</th>\n      <td>0.0</td>\n      <td>0.0</td>\n      <td>0.0</td>\n      <td>1.0</td>\n      <td>0.0</td>\n      <td>0.0</td>\n      <td>0.0</td>\n      <td>0.0</td>\n      <td>0.0</td>\n      <td>1.0</td>\n      <td>...</td>\n      <td>0.0</td>\n      <td>0.0</td>\n      <td>1.0</td>\n      <td>0.0</td>\n      <td>0.0</td>\n      <td>0.0</td>\n      <td>0.0</td>\n      <td>0.0</td>\n      <td>0.0</td>\n      <td>0.0</td>\n    </tr>\n    <tr>\n      <th>4</th>\n      <td>0.0</td>\n      <td>0.0</td>\n      <td>0.0</td>\n      <td>1.0</td>\n      <td>0.0</td>\n      <td>0.0</td>\n      <td>0.0</td>\n      <td>0.0</td>\n      <td>0.0</td>\n      <td>0.0</td>\n      <td>...</td>\n      <td>0.0</td>\n      <td>0.0</td>\n      <td>0.0</td>\n      <td>1.0</td>\n      <td>0.0</td>\n      <td>0.0</td>\n      <td>0.0</td>\n      <td>0.0</td>\n      <td>0.0</td>\n      <td>0.0</td>\n    </tr>\n  </tbody>\n</table>\n<p>5 rows × 40 columns</p>\n</div>"
     },
     "metadata": {},
     "execution_count": 1376
    }
   ],
   "source": [
    "# Create a OneHotEncoder instance\n",
    "enc = OneHotEncoder(sparse=False)\n",
    "\n",
    "# Fit and transform the OneHotEncoder using the categorical variable list\n",
    "encode_df = pd.DataFrame(enc.fit_transform(application_df[application_cat]))\n",
    "\n",
    "# Add the encoded variable names to the dataframe\n",
    "encode_df.columns = enc.get_feature_names(application_cat)\n",
    "\n",
    "# OPTIMIZE - Drop redundante columns\n",
    "encode_df = encode_df.drop('SPECIAL_CONSIDERATIONS_N', 1)\n",
    "encode_df.head()"
   ]
  },
  {
   "cell_type": "code",
   "execution_count": 1377,
   "metadata": {},
   "outputs": [
    {
     "output_type": "execute_result",
     "data": {
      "text/plain": [
       "   STATUS  ASK_AMT  IS_SUCCESSFUL  APPLICATION_TYPE_Other  \\\n",
       "0       1     5000              1                     0.0   \n",
       "1       1   108590              1                     0.0   \n",
       "2       1     5000              0                     0.0   \n",
       "3       1     6692              1                     0.0   \n",
       "4       1   142590              1                     0.0   \n",
       "\n",
       "   APPLICATION_TYPE_T10  APPLICATION_TYPE_T19  APPLICATION_TYPE_T3  \\\n",
       "0                   1.0                   0.0                  0.0   \n",
       "1                   0.0                   0.0                  1.0   \n",
       "2                   0.0                   0.0                  0.0   \n",
       "3                   0.0                   0.0                  1.0   \n",
       "4                   0.0                   0.0                  1.0   \n",
       "\n",
       "   APPLICATION_TYPE_T4  APPLICATION_TYPE_T5  APPLICATION_TYPE_T6  ...  \\\n",
       "0                  0.0                  0.0                  0.0  ...   \n",
       "1                  0.0                  0.0                  0.0  ...   \n",
       "2                  0.0                  1.0                  0.0  ...   \n",
       "3                  0.0                  0.0                  0.0  ...   \n",
       "4                  0.0                  0.0                  0.0  ...   \n",
       "\n",
       "   INCOME_AMT_0  INCOME_AMT_1-9999  INCOME_AMT_10000-24999  \\\n",
       "0           1.0                0.0                     0.0   \n",
       "1           0.0                1.0                     0.0   \n",
       "2           1.0                0.0                     0.0   \n",
       "3           0.0                0.0                     1.0   \n",
       "4           0.0                0.0                     0.0   \n",
       "\n",
       "   INCOME_AMT_100000-499999  INCOME_AMT_10M-50M  INCOME_AMT_1M-5M  \\\n",
       "0                       0.0                 0.0               0.0   \n",
       "1                       0.0                 0.0               0.0   \n",
       "2                       0.0                 0.0               0.0   \n",
       "3                       0.0                 0.0               0.0   \n",
       "4                       1.0                 0.0               0.0   \n",
       "\n",
       "   INCOME_AMT_25000-99999  INCOME_AMT_50M+  INCOME_AMT_5M-10M  \\\n",
       "0                     0.0              0.0                0.0   \n",
       "1                     0.0              0.0                0.0   \n",
       "2                     0.0              0.0                0.0   \n",
       "3                     0.0              0.0                0.0   \n",
       "4                     0.0              0.0                0.0   \n",
       "\n",
       "   SPECIAL_CONSIDERATIONS_Y  \n",
       "0                       0.0  \n",
       "1                       0.0  \n",
       "2                       0.0  \n",
       "3                       0.0  \n",
       "4                       0.0  \n",
       "\n",
       "[5 rows x 43 columns]"
      ],
      "text/html": "<div>\n<style scoped>\n    .dataframe tbody tr th:only-of-type {\n        vertical-align: middle;\n    }\n\n    .dataframe tbody tr th {\n        vertical-align: top;\n    }\n\n    .dataframe thead th {\n        text-align: right;\n    }\n</style>\n<table border=\"1\" class=\"dataframe\">\n  <thead>\n    <tr style=\"text-align: right;\">\n      <th></th>\n      <th>STATUS</th>\n      <th>ASK_AMT</th>\n      <th>IS_SUCCESSFUL</th>\n      <th>APPLICATION_TYPE_Other</th>\n      <th>APPLICATION_TYPE_T10</th>\n      <th>APPLICATION_TYPE_T19</th>\n      <th>APPLICATION_TYPE_T3</th>\n      <th>APPLICATION_TYPE_T4</th>\n      <th>APPLICATION_TYPE_T5</th>\n      <th>APPLICATION_TYPE_T6</th>\n      <th>...</th>\n      <th>INCOME_AMT_0</th>\n      <th>INCOME_AMT_1-9999</th>\n      <th>INCOME_AMT_10000-24999</th>\n      <th>INCOME_AMT_100000-499999</th>\n      <th>INCOME_AMT_10M-50M</th>\n      <th>INCOME_AMT_1M-5M</th>\n      <th>INCOME_AMT_25000-99999</th>\n      <th>INCOME_AMT_50M+</th>\n      <th>INCOME_AMT_5M-10M</th>\n      <th>SPECIAL_CONSIDERATIONS_Y</th>\n    </tr>\n  </thead>\n  <tbody>\n    <tr>\n      <th>0</th>\n      <td>1</td>\n      <td>5000</td>\n      <td>1</td>\n      <td>0.0</td>\n      <td>1.0</td>\n      <td>0.0</td>\n      <td>0.0</td>\n      <td>0.0</td>\n      <td>0.0</td>\n      <td>0.0</td>\n      <td>...</td>\n      <td>1.0</td>\n      <td>0.0</td>\n      <td>0.0</td>\n      <td>0.0</td>\n      <td>0.0</td>\n      <td>0.0</td>\n      <td>0.0</td>\n      <td>0.0</td>\n      <td>0.0</td>\n      <td>0.0</td>\n    </tr>\n    <tr>\n      <th>1</th>\n      <td>1</td>\n      <td>108590</td>\n      <td>1</td>\n      <td>0.0</td>\n      <td>0.0</td>\n      <td>0.0</td>\n      <td>1.0</td>\n      <td>0.0</td>\n      <td>0.0</td>\n      <td>0.0</td>\n      <td>...</td>\n      <td>0.0</td>\n      <td>1.0</td>\n      <td>0.0</td>\n      <td>0.0</td>\n      <td>0.0</td>\n      <td>0.0</td>\n      <td>0.0</td>\n      <td>0.0</td>\n      <td>0.0</td>\n      <td>0.0</td>\n    </tr>\n    <tr>\n      <th>2</th>\n      <td>1</td>\n      <td>5000</td>\n      <td>0</td>\n      <td>0.0</td>\n      <td>0.0</td>\n      <td>0.0</td>\n      <td>0.0</td>\n      <td>0.0</td>\n      <td>1.0</td>\n      <td>0.0</td>\n      <td>...</td>\n      <td>1.0</td>\n      <td>0.0</td>\n      <td>0.0</td>\n      <td>0.0</td>\n      <td>0.0</td>\n      <td>0.0</td>\n      <td>0.0</td>\n      <td>0.0</td>\n      <td>0.0</td>\n      <td>0.0</td>\n    </tr>\n    <tr>\n      <th>3</th>\n      <td>1</td>\n      <td>6692</td>\n      <td>1</td>\n      <td>0.0</td>\n      <td>0.0</td>\n      <td>0.0</td>\n      <td>1.0</td>\n      <td>0.0</td>\n      <td>0.0</td>\n      <td>0.0</td>\n      <td>...</td>\n      <td>0.0</td>\n      <td>0.0</td>\n      <td>1.0</td>\n      <td>0.0</td>\n      <td>0.0</td>\n      <td>0.0</td>\n      <td>0.0</td>\n      <td>0.0</td>\n      <td>0.0</td>\n      <td>0.0</td>\n    </tr>\n    <tr>\n      <th>4</th>\n      <td>1</td>\n      <td>142590</td>\n      <td>1</td>\n      <td>0.0</td>\n      <td>0.0</td>\n      <td>0.0</td>\n      <td>1.0</td>\n      <td>0.0</td>\n      <td>0.0</td>\n      <td>0.0</td>\n      <td>...</td>\n      <td>0.0</td>\n      <td>0.0</td>\n      <td>0.0</td>\n      <td>1.0</td>\n      <td>0.0</td>\n      <td>0.0</td>\n      <td>0.0</td>\n      <td>0.0</td>\n      <td>0.0</td>\n      <td>0.0</td>\n    </tr>\n  </tbody>\n</table>\n<p>5 rows × 43 columns</p>\n</div>"
     },
     "metadata": {},
     "execution_count": 1377
    }
   ],
   "source": [
    "# Merge one-hot encoded features and drop the originals\n",
    "application_df = application_df.merge(encode_df, left_index=True, right_index=True)\n",
    "application_df = application_df.drop(application_cat,1)\n",
    "application_df.head()"
   ]
  },
  {
   "cell_type": "code",
   "execution_count": 1378,
   "metadata": {},
   "outputs": [],
   "source": [
    "# Split our preprocessed data into our features and target arrays\n",
    "y = application_df[\"IS_SUCCESSFUL\"].values\n",
    "X = application_df.drop([\"IS_SUCCESSFUL\"],1).values\n",
    "\n",
    "# Split the preprocessed data into a training and testing dataset\n",
    "X_train, X_test, y_train, y_test = train_test_split(X, y, random_state=78)"
   ]
  },
  {
   "cell_type": "code",
   "execution_count": 1379,
   "metadata": {},
   "outputs": [],
   "source": [
    "# Create a StandardScaler instances\n",
    "scaler = StandardScaler()\n",
    "\n",
    "# Fit the StandardScaler\n",
    "X_scaler = scaler.fit(X_train)\n",
    "\n",
    "# Scale the data\n",
    "X_train_scaled = X_scaler.transform(X_train)\n",
    "X_test_scaled = X_scaler.transform(X_test)"
   ]
  },
  {
   "cell_type": "markdown",
   "metadata": {},
   "source": [
    "### Deliverable 2: Compile, Train and Evaluate the Model"
   ]
  },
  {
   "cell_type": "code",
   "execution_count": 1380,
   "metadata": {},
   "outputs": [
    {
     "output_type": "stream",
     "name": "stdout",
     "text": [
      "Model: \"sequential_76\"\n_________________________________________________________________\nLayer (type)                 Output Shape              Param #   \n=================================================================\ndense_354 (Dense)            (None, 120)               5160      \n_________________________________________________________________\ndense_355 (Dense)            (None, 120)               14520     \n_________________________________________________________________\ndense_356 (Dense)            (None, 60)                7260      \n_________________________________________________________________\ndense_357 (Dense)            (None, 60)                3660      \n_________________________________________________________________\ndense_358 (Dense)            (None, 1)                 61        \n=================================================================\nTotal params: 30,661\nTrainable params: 30,661\nNon-trainable params: 0\n_________________________________________________________________\n"
     ]
    }
   ],
   "source": [
    "# Define the model - deep neural net, i.e., the number of input features and hidden nodes for each layer.\n",
    "number_input_features = len(X_train[0])\n",
    "hidden_nodes_layer1 =  120 # Optimum at 120\n",
    "hidden_nodes_layer2 = 120 # Optimum at 120\n",
    "hidden_nodes_layer3 = 60 # Optimum at 60\n",
    "hidden_nodes_layer4 = 60 # Optimum at 60\n",
    "# hidden_nodes_layer5 = 60 # Optimum at 60\n",
    "# hidden_nodes_layer6 = 60 # Optimum at 60\n",
    "# hidden_nodes_layer7 = 60 # Optimum at 60\n",
    "\n",
    "nn = tf.keras.models.Sequential()\n",
    "\n",
    "# First hidden layer\n",
    "nn.add(tf.keras.layers.Dense(units=hidden_nodes_layer1, input_dim=number_input_features, activation=\"relu\")) # Best result on relu\n",
    "\n",
    "# Second hidden layer\n",
    "nn.add(tf.keras.layers.Dense(units=hidden_nodes_layer2, activation=\"relu\")) # Best result on relu\n",
    "\n",
    "# OPTIMIZE - Third hidden layer\n",
    "nn.add(tf.keras.layers.Dense(units=hidden_nodes_layer3, activation=\"linear\")) # Best result on linear\n",
    "# OPTIMIZE - Fourth hidden layer\n",
    "nn.add(tf.keras.layers.Dense(units=hidden_nodes_layer4, activation=\"relu\")) # Best result on relu\n",
    "\n",
    "# OPTIMIZE - Fifth hidden layer - No Optimum\n",
    "# nn.add(tf.keras.layers.Dense(units=hidden_nodes_layer5, activation=\"linear\")) # no optimum\n",
    "\n",
    "# OPTIMIZE - Sixth hidden layer - No Optimum\n",
    "# nn.add(tf.keras.layers.Dense(units=hidden_nodes_layer6, activation=\"relu\")) # no optimum\n",
    "\n",
    "# OPTIMIZE - Seventh hidden layer - No Optimum\n",
    "# nn.add(tf.keras.layers.Dense(units=hidden_nodes_layer7, activation=\"relu\")) # no optimum\n",
    "\n",
    "# OPTIMIZE - Seventh hidden layer - No Optimum\n",
    "# nn.add(tf.keras.layers.Dense(units=hidden_nodes_layer7, activation=\"relu\")) # no optimum\n",
    "\n",
    "# OPTIMIZE - Eighth hidden layer - No Optimum\n",
    "# nn.add(tf.keras.layers.Dense(units=hidden_nodes_layer7, activation=\"relu\")) # no optimum\n",
    "\n",
    "# Output layer\n",
    "nn.add(tf.keras.layers.Dense(units=1, activation=\"sigmoid\"))\n",
    "# Check the structure of the model\n",
    "nn.summary()"
   ]
  },
  {
   "cell_type": "code",
   "execution_count": 1381,
   "metadata": {},
   "outputs": [],
   "source": [
    "# Import checkpoint dependencies\n",
    "import os\n",
    "from tensorflow.keras.callbacks import ModelCheckpoint\n",
    "\n",
    "# Create a callback that saves the model's weights every 5 epochs\n",
    "cp_callback = ModelCheckpoint(\n",
    "    filepath=checkpoint_path,\n",
    "    verbose=1,\n",
    "    save_weights_only=True,\n",
    "    save_freq=4000)"
   ]
  },
  {
   "cell_type": "code",
   "execution_count": 1382,
   "metadata": {},
   "outputs": [],
   "source": [
    "# Compile the model\n",
    "nn.compile(loss=\"binary_crossentropy\", optimizer=\"Adam\", metrics=[\"accuracy\"])\n"
   ]
  },
  {
   "cell_type": "code",
   "execution_count": 1383,
   "metadata": {
    "tags": []
   },
   "outputs": [
    {
     "output_type": "stream",
     "name": "stdout",
     "text": [
      "Epoch 1/100\n",
      "804/804 [==============================] - 1s 1ms/step - loss: 0.5863 - accuracy: 0.7070\n",
      "Epoch 2/100\n",
      "804/804 [==============================] - 1s 1ms/step - loss: 0.5593 - accuracy: 0.7278\n",
      "Epoch 3/100\n",
      "804/804 [==============================] - 1s 1ms/step - loss: 0.5559 - accuracy: 0.7302\n",
      "Epoch 4/100\n",
      "804/804 [==============================] - 1s 1ms/step - loss: 0.5516 - accuracy: 0.7304\n",
      "Epoch 5/100\n",
      "741/804 [==========================>...] - ETA: 0s - loss: 0.5505 - accuracy: 0.7319\n",
      "Epoch 00005: saving model to checkpoints\\weights.05.hdf5\n",
      "804/804 [==============================] - 1s 1ms/step - loss: 0.5505 - accuracy: 0.7320\n",
      "Epoch 6/100\n",
      "804/804 [==============================] - 1s 1ms/step - loss: 0.5487 - accuracy: 0.7331\n",
      "Epoch 7/100\n",
      "804/804 [==============================] - 1s 1ms/step - loss: 0.5442 - accuracy: 0.7371\n",
      "Epoch 8/100\n",
      "804/804 [==============================] - 1s 1ms/step - loss: 0.5530 - accuracy: 0.7309\n",
      "Epoch 9/100\n",
      "804/804 [==============================] - 1s 1ms/step - loss: 0.5496 - accuracy: 0.7334\n",
      "Epoch 10/100\n",
      "749/804 [==========================>...] - ETA: 0s - loss: 0.5440 - accuracy: 0.7364\n",
      "Epoch 00010: saving model to checkpoints\\weights.10.hdf5\n",
      "804/804 [==============================] - 1s 1ms/step - loss: 0.5442 - accuracy: 0.7363\n",
      "Epoch 11/100\n",
      "804/804 [==============================] - 1s 1ms/step - loss: 0.5481 - accuracy: 0.7344\n",
      "Epoch 12/100\n",
      "804/804 [==============================] - 1s 1ms/step - loss: 0.5412 - accuracy: 0.7388\n",
      "Epoch 13/100\n",
      "804/804 [==============================] - 1s 1ms/step - loss: 0.5404 - accuracy: 0.7374\n",
      "Epoch 14/100\n",
      "804/804 [==============================] - 1s 1ms/step - loss: 0.5453 - accuracy: 0.7362\n",
      "Epoch 15/100\n",
      "738/804 [==========================>...] - ETA: 0s - loss: 0.5439 - accuracy: 0.7360\n",
      "Epoch 00015: saving model to checkpoints\\weights.15.hdf5\n",
      "804/804 [==============================] - 1s 1ms/step - loss: 0.5440 - accuracy: 0.7360\n",
      "Epoch 16/100\n",
      "804/804 [==============================] - 1s 1ms/step - loss: 0.5464 - accuracy: 0.7359\n",
      "Epoch 17/100\n",
      "804/804 [==============================] - 1s 1ms/step - loss: 0.5426 - accuracy: 0.7380\n",
      "Epoch 18/100\n",
      "804/804 [==============================] - 1s 1ms/step - loss: 0.5460 - accuracy: 0.7344\n",
      "Epoch 19/100\n",
      "804/804 [==============================] - 1s 1ms/step - loss: 0.5381 - accuracy: 0.7420\n",
      "Epoch 20/100\n",
      "712/804 [=========================>....] - ETA: 0s - loss: 0.5452 - accuracy: 0.7375\n",
      "Epoch 00020: saving model to checkpoints\\weights.20.hdf5\n",
      "804/804 [==============================] - 1s 1ms/step - loss: 0.5450 - accuracy: 0.7375\n",
      "Epoch 21/100\n",
      "804/804 [==============================] - 1s 1ms/step - loss: 0.5385 - accuracy: 0.7397\n",
      "Epoch 22/100\n",
      "804/804 [==============================] - 1s 1ms/step - loss: 0.5423 - accuracy: 0.7381\n",
      "Epoch 23/100\n",
      "804/804 [==============================] - 1s 1ms/step - loss: 0.5400 - accuracy: 0.7391\n",
      "Epoch 24/100\n",
      "804/804 [==============================] - 1s 1ms/step - loss: 0.5365 - accuracy: 0.7423\n",
      "Epoch 25/100\n",
      "681/804 [========================>.....] - ETA: 0s - loss: 0.5405 - accuracy: 0.7366\n",
      "Epoch 00025: saving model to checkpoints\\weights.25.hdf5\n",
      "804/804 [==============================] - 1s 2ms/step - loss: 0.5407 - accuracy: 0.7369\n",
      "Epoch 26/100\n",
      "804/804 [==============================] - 1s 1ms/step - loss: 0.5453 - accuracy: 0.7369\n",
      "Epoch 27/100\n",
      "804/804 [==============================] - 1s 1ms/step - loss: 0.5395 - accuracy: 0.7370\n",
      "Epoch 28/100\n",
      "804/804 [==============================] - 1s 1ms/step - loss: 0.5418 - accuracy: 0.7344\n",
      "Epoch 29/100\n",
      "804/804 [==============================] - 1s 1ms/step - loss: 0.5365 - accuracy: 0.7406\n",
      "Epoch 30/100\n",
      "673/804 [========================>.....] - ETA: 0s - loss: 0.5301 - accuracy: 0.7475\n",
      "Epoch 00030: saving model to checkpoints\\weights.30.hdf5\n",
      "804/804 [==============================] - 1s 2ms/step - loss: 0.5317 - accuracy: 0.7462\n",
      "Epoch 31/100\n",
      "804/804 [==============================] - 1s 1ms/step - loss: 0.5353 - accuracy: 0.7462\n",
      "Epoch 32/100\n",
      "804/804 [==============================] - 1s 1ms/step - loss: 0.5379 - accuracy: 0.7416\n",
      "Epoch 33/100\n",
      "804/804 [==============================] - 1s 2ms/step - loss: 0.5393 - accuracy: 0.7407\n",
      "Epoch 34/100\n",
      "804/804 [==============================] - 1s 1ms/step - loss: 0.5386 - accuracy: 0.7385\n",
      "Epoch 35/100\n",
      "633/804 [======================>.......] - ETA: 0s - loss: 0.5384 - accuracy: 0.7397\n",
      "Epoch 00035: saving model to checkpoints\\weights.35.hdf5\n",
      "804/804 [==============================] - 1s 2ms/step - loss: 0.5385 - accuracy: 0.7398\n",
      "Epoch 36/100\n",
      "804/804 [==============================] - 1s 2ms/step - loss: 0.5398 - accuracy: 0.7398\n",
      "Epoch 37/100\n",
      "804/804 [==============================] - 1s 2ms/step - loss: 0.5424 - accuracy: 0.7378\n",
      "Epoch 38/100\n",
      "804/804 [==============================] - 1s 2ms/step - loss: 0.5347 - accuracy: 0.7437\n",
      "Epoch 39/100\n",
      "804/804 [==============================] - 1s 1ms/step - loss: 0.5378 - accuracy: 0.7410\n",
      "Epoch 40/100\n",
      "632/804 [======================>.......] - ETA: 0s - loss: 0.5348 - accuracy: 0.7437\n",
      "Epoch 00040: saving model to checkpoints\\weights.40.hdf5\n",
      "804/804 [==============================] - 1s 2ms/step - loss: 0.5358 - accuracy: 0.7428\n",
      "Epoch 41/100\n",
      "804/804 [==============================] - 1s 1ms/step - loss: 0.5350 - accuracy: 0.7419\n",
      "Epoch 42/100\n",
      "804/804 [==============================] - 1s 1ms/step - loss: 0.5431 - accuracy: 0.7375\n",
      "Epoch 43/100\n",
      "804/804 [==============================] - 1s 2ms/step - loss: 0.5372 - accuracy: 0.7385\n",
      "Epoch 44/100\n",
      "804/804 [==============================] - 1s 1ms/step - loss: 0.5353 - accuracy: 0.7404\n",
      "Epoch 45/100\n",
      "609/804 [=====================>........] - ETA: 0s - loss: 0.5356 - accuracy: 0.7423\n",
      "Epoch 00045: saving model to checkpoints\\weights.45.hdf5\n",
      "804/804 [==============================] - 1s 2ms/step - loss: 0.5364 - accuracy: 0.7415\n",
      "Epoch 46/100\n",
      "804/804 [==============================] - 1s 2ms/step - loss: 0.5379 - accuracy: 0.7419\n",
      "Epoch 47/100\n",
      "804/804 [==============================] - 1s 1ms/step - loss: 0.5400 - accuracy: 0.7390\n",
      "Epoch 48/100\n",
      "804/804 [==============================] - 1s 2ms/step - loss: 0.5375 - accuracy: 0.7411\n",
      "Epoch 49/100\n",
      "804/804 [==============================] - 1s 1ms/step - loss: 0.5353 - accuracy: 0.7425\n",
      "Epoch 50/100\n",
      "604/804 [=====================>........] - ETA: 0s - loss: 0.5330 - accuracy: 0.7444\n",
      "Epoch 00050: saving model to checkpoints\\weights.50.hdf5\n",
      "804/804 [==============================] - 1s 2ms/step - loss: 0.5340 - accuracy: 0.7434\n",
      "Epoch 51/100\n",
      "804/804 [==============================] - 1s 1ms/step - loss: 0.5358 - accuracy: 0.7416\n",
      "Epoch 52/100\n",
      "804/804 [==============================] - 1s 1ms/step - loss: 0.5426 - accuracy: 0.7377\n",
      "Epoch 53/100\n",
      "804/804 [==============================] - 1s 2ms/step - loss: 0.5321 - accuracy: 0.7459\n",
      "Epoch 54/100\n",
      "804/804 [==============================] - 1s 1ms/step - loss: 0.5344 - accuracy: 0.7406\n",
      "Epoch 55/100\n",
      "562/804 [===================>..........] - ETA: 0s - loss: 0.5375 - accuracy: 0.7358\n",
      "Epoch 00055: saving model to checkpoints\\weights.55.hdf5\n",
      "804/804 [==============================] - 1s 2ms/step - loss: 0.5379 - accuracy: 0.7366\n",
      "Epoch 56/100\n",
      "804/804 [==============================] - 1s 1ms/step - loss: 0.5357 - accuracy: 0.7417\n",
      "Epoch 57/100\n",
      "804/804 [==============================] - 1s 1ms/step - loss: 0.5332 - accuracy: 0.7423\n",
      "Epoch 58/100\n",
      "804/804 [==============================] - 1s 1ms/step - loss: 0.5352 - accuracy: 0.7377\n",
      "Epoch 59/100\n",
      "804/804 [==============================] - 1s 1ms/step - loss: 0.5332 - accuracy: 0.7405\n",
      "Epoch 60/100\n",
      "542/804 [===================>..........] - ETA: 0s - loss: 0.5360 - accuracy: 0.7383\n",
      "Epoch 00060: saving model to checkpoints\\weights.60.hdf5\n",
      "804/804 [==============================] - 1s 2ms/step - loss: 0.5353 - accuracy: 0.7398\n",
      "Epoch 61/100\n",
      "804/804 [==============================] - 1s 1ms/step - loss: 0.5342 - accuracy: 0.7398\n",
      "Epoch 62/100\n",
      "804/804 [==============================] - 1s 1ms/step - loss: 0.5363 - accuracy: 0.7395\n",
      "Epoch 63/100\n",
      "804/804 [==============================] - 1s 2ms/step - loss: 0.5374 - accuracy: 0.7406\n",
      "Epoch 64/100\n",
      "804/804 [==============================] - 1s 1ms/step - loss: 0.5310 - accuracy: 0.7456\n",
      "Epoch 65/100\n",
      "537/804 [===================>..........] - ETA: 0s - loss: 0.5325 - accuracy: 0.7403\n",
      "Epoch 00065: saving model to checkpoints\\weights.65.hdf5\n",
      "804/804 [==============================] - 1s 2ms/step - loss: 0.5340 - accuracy: 0.7401\n",
      "Epoch 66/100\n",
      "804/804 [==============================] - 1s 2ms/step - loss: 0.5340 - accuracy: 0.7430\n",
      "Epoch 67/100\n",
      "804/804 [==============================] - 1s 1ms/step - loss: 0.5353 - accuracy: 0.7402\n",
      "Epoch 68/100\n",
      "804/804 [==============================] - 1s 2ms/step - loss: 0.5324 - accuracy: 0.7438\n",
      "Epoch 69/100\n",
      "804/804 [==============================] - 1s 1ms/step - loss: 0.5338 - accuracy: 0.7403\n",
      "Epoch 70/100\n",
      "520/804 [==================>...........] - ETA: 0s - loss: 0.5351 - accuracy: 0.7387\n",
      "Epoch 00070: saving model to checkpoints\\weights.70.hdf5\n",
      "804/804 [==============================] - 1s 2ms/step - loss: 0.5352 - accuracy: 0.7394\n",
      "Epoch 71/100\n",
      "804/804 [==============================] - 1s 1ms/step - loss: 0.5292 - accuracy: 0.7442\n",
      "Epoch 72/100\n",
      "804/804 [==============================] - 1s 1ms/step - loss: 0.5337 - accuracy: 0.7426\n",
      "Epoch 73/100\n",
      "804/804 [==============================] - 1s 1ms/step - loss: 0.5329 - accuracy: 0.7400\n",
      "Epoch 74/100\n",
      "804/804 [==============================] - 1s 1ms/step - loss: 0.5324 - accuracy: 0.7436\n",
      "Epoch 75/100\n",
      "489/804 [=================>............] - ETA: 0s - loss: 0.5385 - accuracy: 0.7376\n",
      "Epoch 00075: saving model to checkpoints\\weights.75.hdf5\n",
      "804/804 [==============================] - 1s 2ms/step - loss: 0.5376 - accuracy: 0.7391\n",
      "Epoch 76/100\n",
      "804/804 [==============================] - 1s 1ms/step - loss: 0.5384 - accuracy: 0.7351\n",
      "Epoch 77/100\n",
      "804/804 [==============================] - 1s 1ms/step - loss: 0.5283 - accuracy: 0.7491\n",
      "Epoch 78/100\n",
      "804/804 [==============================] - 1s 2ms/step - loss: 0.5338 - accuracy: 0.7417\n",
      "Epoch 79/100\n",
      "804/804 [==============================] - 1s 1ms/step - loss: 0.5301 - accuracy: 0.7440\n",
      "Epoch 80/100\n",
      "468/804 [================>.............] - ETA: 0s - loss: 0.5314 - accuracy: 0.7438\n",
      "Epoch 00080: saving model to checkpoints\\weights.80.hdf5\n",
      "804/804 [==============================] - 1s 2ms/step - loss: 0.5326 - accuracy: 0.7429\n",
      "Epoch 81/100\n",
      "804/804 [==============================] - 1s 2ms/step - loss: 0.5386 - accuracy: 0.7414\n",
      "Epoch 82/100\n",
      "804/804 [==============================] - 1s 2ms/step - loss: 0.5284 - accuracy: 0.7454\n",
      "Epoch 83/100\n",
      "804/804 [==============================] - 1s 2ms/step - loss: 0.5369 - accuracy: 0.7388\n",
      "Epoch 84/100\n",
      "804/804 [==============================] - 1s 2ms/step - loss: 0.5356 - accuracy: 0.7390\n",
      "Epoch 85/100\n",
      "444/804 [===============>..............] - ETA: 0s - loss: 0.5360 - accuracy: 0.7367\n",
      "Epoch 00085: saving model to checkpoints\\weights.85.hdf5\n",
      "804/804 [==============================] - 1s 2ms/step - loss: 0.5348 - accuracy: 0.7391\n",
      "Epoch 86/100\n",
      "804/804 [==============================] - 1s 1ms/step - loss: 0.5342 - accuracy: 0.7421\n",
      "Epoch 87/100\n",
      "804/804 [==============================] - 1s 2ms/step - loss: 0.5327 - accuracy: 0.7452\n",
      "Epoch 88/100\n",
      "804/804 [==============================] - 1s 1ms/step - loss: 0.5322 - accuracy: 0.7417\n",
      "Epoch 89/100\n",
      "804/804 [==============================] - 1s 1ms/step - loss: 0.5331 - accuracy: 0.7440\n",
      "Epoch 90/100\n",
      "427/804 [==============>...............] - ETA: 0s - loss: 0.5486 - accuracy: 0.7310\n",
      "Epoch 00090: saving model to checkpoints\\weights.90.hdf5\n",
      "804/804 [==============================] - 1s 2ms/step - loss: 0.5432 - accuracy: 0.7353\n",
      "Epoch 91/100\n",
      "804/804 [==============================] - 1s 1ms/step - loss: 0.5361 - accuracy: 0.7383\n",
      "Epoch 92/100\n",
      "804/804 [==============================] - 1s 2ms/step - loss: 0.5317 - accuracy: 0.7450\n",
      "Epoch 93/100\n",
      "804/804 [==============================] - 1s 1ms/step - loss: 0.5317 - accuracy: 0.7430\n",
      "Epoch 94/100\n",
      "804/804 [==============================] - 1s 2ms/step - loss: 0.5325 - accuracy: 0.7427\n",
      "Epoch 95/100\n",
      "415/804 [==============>...............] - ETA: 0s - loss: 0.5335 - accuracy: 0.7432\n",
      "Epoch 00095: saving model to checkpoints\\weights.95.hdf5\n",
      "804/804 [==============================] - 1s 2ms/step - loss: 0.5331 - accuracy: 0.7437\n",
      "Epoch 96/100\n",
      "804/804 [==============================] - 1s 1ms/step - loss: 0.5334 - accuracy: 0.7423\n",
      "Epoch 97/100\n",
      "804/804 [==============================] - 1s 2ms/step - loss: 0.5357 - accuracy: 0.7403\n",
      "Epoch 98/100\n",
      "804/804 [==============================] - 1s 1ms/step - loss: 0.5356 - accuracy: 0.7409\n",
      "Epoch 99/100\n",
      "804/804 [==============================] - 1s 2ms/step - loss: 0.5299 - accuracy: 0.7439\n",
      "Epoch 100/100\n",
      "368/804 [============>.................] - ETA: 0s - loss: 0.5370 - accuracy: 0.7418\n",
      "Epoch 00100: saving model to checkpoints\\weights.100.hdf5\n",
      "804/804 [==============================] - 1s 1ms/step - loss: 0.5356 - accuracy: 0.7417\n"
     ]
    }
   ],
   "source": [
    "# Train the model\n",
    "fit_model = nn.fit(X_train_scaled,y_train,epochs=100,callbacks=[cp_callback])"
   ]
  },
  {
   "cell_type": "code",
   "execution_count": 1384,
   "metadata": {},
   "outputs": [
    {
     "output_type": "stream",
     "name": "stdout",
     "text": [
      "268/268 - 0s - loss: 0.5723 - accuracy: 0.7258\n",
      "Loss: 0.5722980499267578, Accuracy: 0.7258309125900269\n"
     ]
    }
   ],
   "source": [
    "# Evaluate the model using the test data - Best Test Accuracy: 0.7258\n",
    "model_loss, model_accuracy = nn.evaluate(X_test_scaled,y_test,verbose=2)\n",
    "print(f\"Loss: {model_loss}, Accuracy: {model_accuracy}\")"
   ]
  },
  {
   "cell_type": "code",
   "execution_count": 1385,
   "metadata": {},
   "outputs": [],
   "source": [
    "# Export our model to HDF5 file\n",
    "nn.save(\"AlphabetSoupCharity_Optimization.h5\")"
   ]
  },
  {
   "cell_type": "code",
   "execution_count": null,
   "metadata": {},
   "outputs": [],
   "source": []
  }
 ],
 "metadata": {
  "kernelspec": {
   "display_name": "Python 3",
   "language": "python",
   "name": "python3"
  },
  "language_info": {
   "codemirror_mode": {
    "name": "ipython",
    "version": 3
   },
   "file_extension": ".py",
   "mimetype": "text/x-python",
   "name": "python",
   "nbconvert_exporter": "python",
   "pygments_lexer": "ipython3",
   "version": "3.8.3-final"
  }
 },
 "nbformat": 4,
 "nbformat_minor": 2
}